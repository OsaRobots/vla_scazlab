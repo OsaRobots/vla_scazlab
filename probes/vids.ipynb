{
 "cells": [
  {
   "cell_type": "code",
   "execution_count": 2,
   "metadata": {},
   "outputs": [],
   "source": [
    "import numpy as np\n",
    "import cv2\n",
    "import os\n",
    "import glob "
   ]
  },
  {
   "cell_type": "code",
   "execution_count": 2,
   "metadata": {},
   "outputs": [],
   "source": [
    "save_path = './trial_vids'\n",
    "data_dir = '/Users/jeremiahetiosaomeike/Downloads/vla_finetuned_run_data'\n",
    "\n",
    "def frames_to_mp4(frames, save_path, fps=5):\n",
    "    height, width, _ = frames[0].shape\n",
    "    fourcc = cv2.VideoWriter_fourcc(*'mp4v')\n",
    "    video = cv2.VideoWriter(save_path, fourcc, fps, (width, height))\n",
    "\n",
    "    for frame in frames:\n",
    "        video.write(cv2.cvtColor(frame, cv2.COLOR_RGB2BGR))\n",
    "\n",
    "    video.release()\n",
    "\n",
    "def traj_to_video(save_path, data_dir):\n",
    "    if not os.path.exists(save_path):\n",
    "        os.makedirs(save_path)\n",
    "\n",
    "    npys = glob.glob(data_dir + '/*.npy')\n",
    "    seqs_of_images = []\n",
    "    name = data_path.split('/')[-1]\n",
    "    for num_trial in range(len(npys)):\n",
    "        data_path = npys[num_trial]\n",
    "        data = np.load(data_path, allow_pickle=True)\n",
    "        images = []\n",
    "        for dct in data:\n",
    "            image = dct['image']\n",
    "            images.append(image)\n",
    "        \n",
    "        seqs_of_images.append(images)\n",
    "\n",
    "    for i, images_ in enumerate(seqs_of_images):\n",
    "        frames_to_mp4(images_, save_path + f'/{name}.mp4')"
   ]
  }
 ],
 "metadata": {
  "kernelspec": {
   "display_name": "libero_venv",
   "language": "python",
   "name": "python3"
  },
  "language_info": {
   "codemirror_mode": {
    "name": "ipython",
    "version": 3
   },
   "file_extension": ".py",
   "mimetype": "text/x-python",
   "name": "python",
   "nbconvert_exporter": "python",
   "pygments_lexer": "ipython3",
   "version": "3.10.14"
  }
 },
 "nbformat": 4,
 "nbformat_minor": 2
}
