{
 "cells": [
  {
   "cell_type": "code",
   "execution_count": null,
   "metadata": {},
   "outputs": [
    {
     "name": "stderr",
     "output_type": "stream",
     "text": [
      "/Users/jeremiahetiosaomeike/research_projects/vla/LIBERO/libero_venv/lib/python3.10/site-packages/tqdm/auto.py:21: TqdmWarning: IProgress not found. Please update jupyter and ipywidgets. See https://ipywidgets.readthedocs.io/en/stable/user_install.html\n",
      "  from .autonotebook import tqdm as notebook_tqdm\n",
      "/Users/jeremiahetiosaomeike/research_projects/vla/LIBERO/libero_venv/lib/python3.10/site-packages/transformers/utils/generic.py:441: FutureWarning: `torch.utils._pytree._register_pytree_node` is deprecated. Please use `torch.utils._pytree.register_pytree_node` instead.\n",
      "  _torch_pytree._register_pytree_node(\n",
      "Exception ignored in: <bound method IPythonKernel._clean_thread_parent_frames of <ipykernel.ipkernel.IPythonKernel object at 0x10769f700>>\n",
      "Traceback (most recent call last):\n",
      "  File \"/Users/jeremiahetiosaomeike/research_projects/vla/LIBERO/libero_venv/lib/python3.10/site-packages/ipykernel/ipkernel.py\", line 775, in _clean_thread_parent_frames\n",
      "    def _clean_thread_parent_frames(\n",
      "KeyboardInterrupt: \n"
     ]
    }
   ],
   "source": [
    "import glob\n",
    "import numpy as np\n",
    "from PIL import Image\n",
    "import torch\n",
    "from transformers import AutoProcessor, AutoModelForVision2Seq"
   ]
  },
  {
   "cell_type": "code",
   "execution_count": null,
   "metadata": {},
   "outputs": [],
   "source": [
    "device = torch.device(\"cuda\" if torch.cuda.is_available() else \"cpu\")\n",
    "device_map = 'cuda' if torch.cuda.is_available() else 'cpu'\n",
    "open_vla_path = ... # Open VLA Path Here\n",
    "\n",
    "processor = AutoProcessor.from_pretrained(open_vla_path, trust_remote_code=True, device_map=device_map)\n",
    "vla = AutoModelForVision2Seq.from_pretrained( \n",
    "   open_vla_path,\n",
    "   # attn_implementation=\"flash_attention_2\",  # [Optional] Requires `flash_attn`\n",
    "   torch_dtype=torch.bfloat16,\n",
    "   low_cpu_mem_usage=True,\n",
    "   trust_remote_code=True\n",
    ")\n",
    "vla = vla.to(device)  "
   ]
  },
  {
   "cell_type": "code",
   "execution_count": null,
   "metadata": {},
   "outputs": [],
   "source": [
    "vla_data_path_npys = ... # '/scratch/gpfs/jomeike/vla_run_data/*.npy' Dataset Path Here\n",
    "npy_files = glob.glob(vla_data_path_npys)\n",
    "\n",
    "for npy_file in npy_files:\n",
    "    dat = np.load(npy_file, allow_pickle=True)\n",
    "    for dct in dat:\n",
    "        image_image = Image.fromarray(dct['image'])\n",
    "        lang_instruction = dct['language_instruction']\n",
    "        inputs = processor(lang_instruction, image_image).to(device, dtype=torch.bfloat16)\n",
    "       \n",
    "        with torch.amp.autocast('cuda'):\n",
    "            with torch.no_grad():\n",
    "                gends = vla.generate(**inputs,\n",
    "                                max_new_tokens=vla.get_action_dim('bridge_orig'),\n",
    "                                return_dict_in_generate=True,\n",
    "                                output_hidden_states=True)\n",
    "                \n",
    "                # pre-generation hidden states \n",
    "                hidden_states_before_generation = gends['hidden_states'][0]\n",
    "                hidden_state_last_layer = hidden_states_before_generation[-1]\n",
    "                hidden_state_at_last_token = hidden_state_last_layer[:, -1, :]\n",
    "                dct['hidden_state_before_gen'] = hidden_state_at_last_token.cpu().float().numpy()\n",
    "                \n",
    "                # post-generation hidden states\n",
    "                hidden_state_post_generation = gends['hidden_states'][-1]\n",
    "                hidden_state_post_generation = hidden_state_post_generation[-1][0]\n",
    "                dct['hidden_state_post_gen'] = hidden_state_post_generation.cpu().float().numpy()\n",
    "        \n",
    "    np.save(npy_file, dat)\n",
    "    print(f'Saved npy file {npy_file}')"
   ]
  },
  {
   "cell_type": "code",
   "execution_count": null,
   "metadata": {},
   "outputs": [],
   "source": [
    "vla_data_path_validation_npys = ... # '/scratch/gpfs/jomeike/vla_run_data/*.npy' Dataset Path Here\n",
    "npy_validation_files = glob.glob(vla_data_path_validation_npys)\n",
    "\n",
    "for npy_file in npy_files:\n",
    "    dat = np.load(npy_file, allow_pickle=True)\n",
    "    for dct in dat:\n",
    "        image_image = Image.fromarray(dct['image'])\n",
    "        lang_instruction = dct['language_instruction']\n",
    "        inputs = processor(lang_instruction, image_image).to(device, dtype=torch.bfloat16)\n",
    "       \n",
    "        with torch.amp.autocast('cuda'):\n",
    "            with torch.no_grad():\n",
    "                gends = vla.generate(**inputs,\n",
    "                                max_new_tokens=vla.get_action_dim('bridge_orig'),\n",
    "                                return_dict_in_generate=True,\n",
    "                                output_hidden_states=True)\n",
    "                \n",
    "                # pre-generation hidden states \n",
    "                hidden_states_before_generation = gends['hidden_states'][0]\n",
    "                hidden_state_last_layer = hidden_states_before_generation[-1]\n",
    "                hidden_state_at_last_token = hidden_state_last_layer[:, -1, :]\n",
    "                dct['hidden_state_before_gen'] = hidden_state_at_last_token.cpu().float().numpy()\n",
    "                \n",
    "                # post-generation hidden states\n",
    "                hidden_state_post_generation = gends['hidden_states'][-1]\n",
    "                hidden_state_post_generation = hidden_state_post_generation[-1][0]\n",
    "                dct['hidden_state_post_gen'] = hidden_state_post_generation.cpu().float().numpy()\n",
    "        \n",
    "    np.save(npy_file, dat)\n",
    "    print(f'Saved npy file {npy_file}')\n",
    "\n",
    "torch.cuda.empty_cache()"
   ]
  }
 ],
 "metadata": {
  "kernelspec": {
   "display_name": "libero_venv",
   "language": "python",
   "name": "python3"
  },
  "language_info": {
   "codemirror_mode": {
    "name": "ipython",
    "version": 3
   },
   "file_extension": ".py",
   "mimetype": "text/x-python",
   "name": "python",
   "nbconvert_exporter": "python",
   "pygments_lexer": "ipython3",
   "version": "3.10.14"
  }
 },
 "nbformat": 4,
 "nbformat_minor": 2
}
